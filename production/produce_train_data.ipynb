{
 "cells": [
  {
   "cell_type": "code",
   "execution_count": 1,
   "metadata": {},
   "outputs": [],
   "source": [
    "#-*-coding:utf8-*-\n",
    "\n",
    "\"\"\"\n",
    "author:YJM\n",
    "date:20190726\n",
    "\n",
    "\"\"\"\n",
    "from __future__ import division\n",
    "import os\n",
    "import sys\n",
    "import numpy as np\n",
    "import pandas as pd\n",
    "import operator"
   ]
  },
  {
   "cell_type": "markdown",
   "metadata": {},
   "source": [
    "### 选择更大的用户行为数据集这样更有利于学习"
   ]
  },
  {
   "cell_type": "code",
   "execution_count": 4,
   "metadata": {},
   "outputs": [],
   "source": [
    "def produce_train_data(input_file,out_file):\n",
    "    \"\"\"\n",
    "    Args:\n",
    "        input_file:user behavior file\n",
    "        out_file:output file\n",
    "    因为要以文件的格式输出，所以没有返回值\n",
    "    \"\"\"\n",
    "    if not os.path.exists(input_file):\n",
    "        return\n",
    "    record = {} #用来记录用户喜欢的物品\n",
    "    linenum = 0\n",
    "    score_thr = 4.0\n",
    "    fp =open(input_file)\n",
    "    for line in fp:\n",
    "        if linenum == 0:\n",
    "            linenum += 1\n",
    "            continue\n",
    "        item = line.strip().split(\",\")\n",
    "        if len(item) <4:\n",
    "            continue\n",
    "        userid,itemid, rating = item[0],item[1],float(item[2])\n",
    "        if rating  <score_thr:\n",
    "            continue\n",
    "        if userid not in record:\n",
    "            record[userid] = []\n",
    "        record[userid].append(itemid)\n",
    "    fp.close()\n",
    "    fw = open(out_file,\"w+\")\n",
    "    for userid in record:\n",
    "        fw.write(\" \".join(record[userid])+\"\\n\")\n",
    "    fw.close()\n",
    "    "
   ]
  },
  {
   "cell_type": "code",
   "execution_count": 5,
   "metadata": {},
   "outputs": [],
   "source": [
    "produce_train_data(\"../data/ratings.csv\",\"../data/train_data.txt\")"
   ]
  },
  {
   "cell_type": "code",
   "execution_count": null,
   "metadata": {},
   "outputs": [],
   "source": [
    "def get_item_info(input_file):\n",
    "    if not os.path.exists(input_file):\n",
    "        return {}\n",
    "    item_info={}\n",
    "    linenum=0\n",
    "    fp = open(input_file)\n",
    "    for line in fp:\n",
    "        if linenum == 0:\n",
    "            linenum += 1\n",
    "            continue\n",
    "        item = line.strip().split(',')\n",
    "        if len(item)<3:\n",
    "            continue\n",
    "        elif len(item) == 3:\n",
    "            itemid,title,genre = item[0],item[1],item[2]\n",
    "        elif len(item)>3:\n",
    "            itemid = item[0]\n",
    "            genre = item[-1]\n",
    "            title = ','.join(item[1:-1])\n",
    "        item_info[itemid]=[title,genre]\n",
    "    fp.closed\n",
    "    return item_info"
   ]
  }
 ],
 "metadata": {
  "kernelspec": {
   "display_name": "Python 3",
   "language": "python",
   "name": "python3"
  },
  "language_info": {
   "codemirror_mode": {
    "name": "ipython",
    "version": 3
   },
   "file_extension": ".py",
   "mimetype": "text/x-python",
   "name": "python",
   "nbconvert_exporter": "python",
   "pygments_lexer": "ipython3",
   "version": "3.6.8"
  }
 },
 "nbformat": 4,
 "nbformat_minor": 2
}
